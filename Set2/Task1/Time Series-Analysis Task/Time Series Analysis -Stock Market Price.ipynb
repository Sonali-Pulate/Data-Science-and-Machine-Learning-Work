{
 "cells": [
  {
   "cell_type": "code",
   "execution_count": 1,
   "id": "5280e251",
   "metadata": {},
   "outputs": [],
   "source": [
    "# Importing required modules\n",
    "import pandas as pd          \n",
    "import numpy as np               \n",
    "import matplotlib.pyplot as plt   \n",
    "import datetime as dt\n",
    "from datetime import datetime    \n",
    "from pandas import Series         \n",
    "%matplotlib inline \n",
    "\n",
    "import warnings                   \n",
    "warnings.filterwarnings(\"ignore\")\n",
    "\n",
    "\n",
    "# Settings for pretty nice plots\n",
    "plt.style.use('fivethirtyeight')\n",
    "plt.show()"
   ]
  },
  {
   "cell_type": "code",
   "execution_count": 2,
   "id": "7cce4e17",
   "metadata": {},
   "outputs": [],
   "source": [
    "df = pd.read_csv(\"C:/Users/user.DESKTOP-OMQ89VA/Downloads/ADANIPORTS.csv\")"
   ]
  },
  {
   "cell_type": "code",
   "execution_count": 3,
   "id": "95a25483",
   "metadata": {},
   "outputs": [
    {
     "data": {
      "text/html": [
       "<div>\n",
       "<style scoped>\n",
       "    .dataframe tbody tr th:only-of-type {\n",
       "        vertical-align: middle;\n",
       "    }\n",
       "\n",
       "    .dataframe tbody tr th {\n",
       "        vertical-align: top;\n",
       "    }\n",
       "\n",
       "    .dataframe thead th {\n",
       "        text-align: right;\n",
       "    }\n",
       "</style>\n",
       "<table border=\"1\" class=\"dataframe\">\n",
       "  <thead>\n",
       "    <tr style=\"text-align: right;\">\n",
       "      <th></th>\n",
       "      <th>Date</th>\n",
       "      <th>Symbol</th>\n",
       "      <th>Series</th>\n",
       "      <th>Prev Close</th>\n",
       "      <th>Open</th>\n",
       "      <th>High</th>\n",
       "      <th>Low</th>\n",
       "      <th>Last</th>\n",
       "      <th>Close</th>\n",
       "      <th>VWAP</th>\n",
       "      <th>Volume</th>\n",
       "      <th>Turnover</th>\n",
       "      <th>Trades</th>\n",
       "      <th>Deliverable Volume</th>\n",
       "      <th>%Deliverble</th>\n",
       "    </tr>\n",
       "  </thead>\n",
       "  <tbody>\n",
       "    <tr>\n",
       "      <th>0</th>\n",
       "      <td>2007-11-27</td>\n",
       "      <td>MUNDRAPORT</td>\n",
       "      <td>EQ</td>\n",
       "      <td>440.00</td>\n",
       "      <td>770.00</td>\n",
       "      <td>1050.00</td>\n",
       "      <td>770.0</td>\n",
       "      <td>959.0</td>\n",
       "      <td>962.90</td>\n",
       "      <td>984.72</td>\n",
       "      <td>27294366</td>\n",
       "      <td>2.687719e+15</td>\n",
       "      <td>NaN</td>\n",
       "      <td>9859619</td>\n",
       "      <td>0.3612</td>\n",
       "    </tr>\n",
       "    <tr>\n",
       "      <th>1</th>\n",
       "      <td>2007-11-28</td>\n",
       "      <td>MUNDRAPORT</td>\n",
       "      <td>EQ</td>\n",
       "      <td>962.90</td>\n",
       "      <td>984.00</td>\n",
       "      <td>990.00</td>\n",
       "      <td>874.0</td>\n",
       "      <td>885.0</td>\n",
       "      <td>893.90</td>\n",
       "      <td>941.38</td>\n",
       "      <td>4581338</td>\n",
       "      <td>4.312765e+14</td>\n",
       "      <td>NaN</td>\n",
       "      <td>1453278</td>\n",
       "      <td>0.3172</td>\n",
       "    </tr>\n",
       "    <tr>\n",
       "      <th>2</th>\n",
       "      <td>2007-11-29</td>\n",
       "      <td>MUNDRAPORT</td>\n",
       "      <td>EQ</td>\n",
       "      <td>893.90</td>\n",
       "      <td>909.00</td>\n",
       "      <td>914.75</td>\n",
       "      <td>841.0</td>\n",
       "      <td>887.0</td>\n",
       "      <td>884.20</td>\n",
       "      <td>888.09</td>\n",
       "      <td>5124121</td>\n",
       "      <td>4.550658e+14</td>\n",
       "      <td>NaN</td>\n",
       "      <td>1069678</td>\n",
       "      <td>0.2088</td>\n",
       "    </tr>\n",
       "    <tr>\n",
       "      <th>3</th>\n",
       "      <td>2007-11-30</td>\n",
       "      <td>MUNDRAPORT</td>\n",
       "      <td>EQ</td>\n",
       "      <td>884.20</td>\n",
       "      <td>890.00</td>\n",
       "      <td>958.00</td>\n",
       "      <td>890.0</td>\n",
       "      <td>929.0</td>\n",
       "      <td>921.55</td>\n",
       "      <td>929.17</td>\n",
       "      <td>4609762</td>\n",
       "      <td>4.283257e+14</td>\n",
       "      <td>NaN</td>\n",
       "      <td>1260913</td>\n",
       "      <td>0.2735</td>\n",
       "    </tr>\n",
       "    <tr>\n",
       "      <th>4</th>\n",
       "      <td>2007-12-03</td>\n",
       "      <td>MUNDRAPORT</td>\n",
       "      <td>EQ</td>\n",
       "      <td>921.55</td>\n",
       "      <td>939.75</td>\n",
       "      <td>995.00</td>\n",
       "      <td>922.0</td>\n",
       "      <td>980.0</td>\n",
       "      <td>969.30</td>\n",
       "      <td>965.65</td>\n",
       "      <td>2977470</td>\n",
       "      <td>2.875200e+14</td>\n",
       "      <td>NaN</td>\n",
       "      <td>816123</td>\n",
       "      <td>0.2741</td>\n",
       "    </tr>\n",
       "  </tbody>\n",
       "</table>\n",
       "</div>"
      ],
      "text/plain": [
       "         Date      Symbol Series  Prev Close    Open     High    Low   Last  \\\n",
       "0  2007-11-27  MUNDRAPORT     EQ      440.00  770.00  1050.00  770.0  959.0   \n",
       "1  2007-11-28  MUNDRAPORT     EQ      962.90  984.00   990.00  874.0  885.0   \n",
       "2  2007-11-29  MUNDRAPORT     EQ      893.90  909.00   914.75  841.0  887.0   \n",
       "3  2007-11-30  MUNDRAPORT     EQ      884.20  890.00   958.00  890.0  929.0   \n",
       "4  2007-12-03  MUNDRAPORT     EQ      921.55  939.75   995.00  922.0  980.0   \n",
       "\n",
       "    Close    VWAP    Volume      Turnover  Trades  Deliverable Volume  \\\n",
       "0  962.90  984.72  27294366  2.687719e+15     NaN             9859619   \n",
       "1  893.90  941.38   4581338  4.312765e+14     NaN             1453278   \n",
       "2  884.20  888.09   5124121  4.550658e+14     NaN             1069678   \n",
       "3  921.55  929.17   4609762  4.283257e+14     NaN             1260913   \n",
       "4  969.30  965.65   2977470  2.875200e+14     NaN              816123   \n",
       "\n",
       "   %Deliverble  \n",
       "0       0.3612  \n",
       "1       0.3172  \n",
       "2       0.2088  \n",
       "3       0.2735  \n",
       "4       0.2741  "
      ]
     },
     "execution_count": 3,
     "metadata": {},
     "output_type": "execute_result"
    }
   ],
   "source": [
    "df.head()"
   ]
  },
  {
   "cell_type": "code",
   "execution_count": 4,
   "id": "b0b239e6",
   "metadata": {},
   "outputs": [],
   "source": [
    "# For the sake of this notebook, I shall limit the number of columns to keep things simple. \n",
    "\n",
    "data = df[['Date','Open','High','Low','Close','Volume','VWAP']]"
   ]
  },
  {
   "cell_type": "code",
   "execution_count": 5,
   "id": "ec2363a5",
   "metadata": {},
   "outputs": [
    {
     "name": "stdout",
     "output_type": "stream",
     "text": [
      "<class 'pandas.core.frame.DataFrame'>\n",
      "RangeIndex: 2993 entries, 0 to 2992\n",
      "Data columns (total 7 columns):\n",
      " #   Column  Non-Null Count  Dtype  \n",
      "---  ------  --------------  -----  \n",
      " 0   Date    2993 non-null   object \n",
      " 1   Open    2993 non-null   float64\n",
      " 2   High    2993 non-null   float64\n",
      " 3   Low     2993 non-null   float64\n",
      " 4   Close   2993 non-null   float64\n",
      " 5   Volume  2993 non-null   int64  \n",
      " 6   VWAP    2993 non-null   float64\n",
      "dtypes: float64(5), int64(1), object(1)\n",
      "memory usage: 163.8+ KB\n"
     ]
    }
   ],
   "source": [
    "data.info()"
   ]
  },
  {
   "cell_type": "code",
   "execution_count": 6,
   "id": "5652548a",
   "metadata": {},
   "outputs": [
    {
     "data": {
      "text/html": [
       "<div>\n",
       "<style scoped>\n",
       "    .dataframe tbody tr th:only-of-type {\n",
       "        vertical-align: middle;\n",
       "    }\n",
       "\n",
       "    .dataframe tbody tr th {\n",
       "        vertical-align: top;\n",
       "    }\n",
       "\n",
       "    .dataframe thead th {\n",
       "        text-align: right;\n",
       "    }\n",
       "</style>\n",
       "<table border=\"1\" class=\"dataframe\">\n",
       "  <thead>\n",
       "    <tr style=\"text-align: right;\">\n",
       "      <th></th>\n",
       "      <th>Date</th>\n",
       "      <th>Open</th>\n",
       "      <th>High</th>\n",
       "      <th>Low</th>\n",
       "      <th>Close</th>\n",
       "      <th>Volume</th>\n",
       "      <th>VWAP</th>\n",
       "    </tr>\n",
       "  </thead>\n",
       "  <tbody>\n",
       "    <tr>\n",
       "      <th>0</th>\n",
       "      <td>2007-11-27</td>\n",
       "      <td>770.00</td>\n",
       "      <td>1050.00</td>\n",
       "      <td>770.0</td>\n",
       "      <td>962.90</td>\n",
       "      <td>27294366</td>\n",
       "      <td>984.72</td>\n",
       "    </tr>\n",
       "    <tr>\n",
       "      <th>1</th>\n",
       "      <td>2007-11-28</td>\n",
       "      <td>984.00</td>\n",
       "      <td>990.00</td>\n",
       "      <td>874.0</td>\n",
       "      <td>893.90</td>\n",
       "      <td>4581338</td>\n",
       "      <td>941.38</td>\n",
       "    </tr>\n",
       "    <tr>\n",
       "      <th>2</th>\n",
       "      <td>2007-11-29</td>\n",
       "      <td>909.00</td>\n",
       "      <td>914.75</td>\n",
       "      <td>841.0</td>\n",
       "      <td>884.20</td>\n",
       "      <td>5124121</td>\n",
       "      <td>888.09</td>\n",
       "    </tr>\n",
       "    <tr>\n",
       "      <th>3</th>\n",
       "      <td>2007-11-30</td>\n",
       "      <td>890.00</td>\n",
       "      <td>958.00</td>\n",
       "      <td>890.0</td>\n",
       "      <td>921.55</td>\n",
       "      <td>4609762</td>\n",
       "      <td>929.17</td>\n",
       "    </tr>\n",
       "    <tr>\n",
       "      <th>4</th>\n",
       "      <td>2007-12-03</td>\n",
       "      <td>939.75</td>\n",
       "      <td>995.00</td>\n",
       "      <td>922.0</td>\n",
       "      <td>969.30</td>\n",
       "      <td>2977470</td>\n",
       "      <td>965.65</td>\n",
       "    </tr>\n",
       "  </tbody>\n",
       "</table>\n",
       "</div>"
      ],
      "text/plain": [
       "        Date    Open     High    Low   Close    Volume    VWAP\n",
       "0 2007-11-27  770.00  1050.00  770.0  962.90  27294366  984.72\n",
       "1 2007-11-28  984.00   990.00  874.0  893.90   4581338  941.38\n",
       "2 2007-11-29  909.00   914.75  841.0  884.20   5124121  888.09\n",
       "3 2007-11-30  890.00   958.00  890.0  921.55   4609762  929.17\n",
       "4 2007-12-03  939.75   995.00  922.0  969.30   2977470  965.65"
      ]
     },
     "execution_count": 6,
     "metadata": {},
     "output_type": "execute_result"
    }
   ],
   "source": [
    "# Convert string to datetime64\n",
    "data['Date'] = data['Date'].apply(pd.to_datetime)\n",
    "data.head()"
   ]
  },
  {
   "cell_type": "code",
   "execution_count": 7,
   "id": "2fa3f14e",
   "metadata": {},
   "outputs": [],
   "source": [
    "#Manipulating datetime-\n",
    "from datetime import datetime\n",
    "my_year = 2019\n",
    "my_month = 4\n",
    "my_day = 21\n",
    "my_hour = 10\n",
    "my_minute = 5\n",
    "my_second = 30"
   ]
  },
  {
   "cell_type": "code",
   "execution_count": 8,
   "id": "29ed4500",
   "metadata": {},
   "outputs": [
    {
     "data": {
      "text/plain": [
       "datetime.datetime(2019, 4, 21, 0, 0)"
      ]
     },
     "execution_count": 8,
     "metadata": {},
     "output_type": "execute_result"
    }
   ],
   "source": [
    "test_date = datetime(my_year, my_month, my_day)\n",
    "test_date"
   ]
  },
  {
   "cell_type": "code",
   "execution_count": 9,
   "id": "a2391fb2",
   "metadata": {},
   "outputs": [
    {
     "name": "stdout",
     "output_type": "stream",
     "text": [
      "The day is :  21\n",
      "The hour is :  10\n",
      "The month is :  4\n"
     ]
    }
   ],
   "source": [
    "test_date = datetime(my_year, my_month, my_day, my_hour, my_minute, my_second)\n",
    "print('The day is : ', test_date.day)\n",
    "print('The hour is : ', test_date.hour)\n",
    "print('The month is : ', test_date.month)"
   ]
  },
  {
   "cell_type": "code",
   "execution_count": 10,
   "id": "57861155",
   "metadata": {},
   "outputs": [
    {
     "name": "stdout",
     "output_type": "stream",
     "text": [
      "2992\n",
      "0\n"
     ]
    }
   ],
   "source": [
    "print(data.index.max())\n",
    "print(data.index.min())"
   ]
  },
  {
   "cell_type": "code",
   "execution_count": 11,
   "id": "ab07b311",
   "metadata": {},
   "outputs": [
    {
     "name": "stdout",
     "output_type": "stream",
     "text": [
      "Earliest date index location is:  0\n",
      "Latest date location:  2992\n"
     ]
    }
   ],
   "source": [
    "# Earliest date index location\n",
    "print('Earliest date index location is: ',data.index.argmin())\n",
    "\n",
    "# Latest date location\n",
    "print('Latest date location: ',data.index.argmax())"
   ]
  },
  {
   "cell_type": "code",
   "execution_count": 12,
   "id": "1eca93a5",
   "metadata": {},
   "outputs": [
    {
     "data": {
      "text/html": [
       "<div>\n",
       "<style scoped>\n",
       "    .dataframe tbody tr th:only-of-type {\n",
       "        vertical-align: middle;\n",
       "    }\n",
       "\n",
       "    .dataframe tbody tr th {\n",
       "        vertical-align: top;\n",
       "    }\n",
       "\n",
       "    .dataframe thead th {\n",
       "        text-align: right;\n",
       "    }\n",
       "</style>\n",
       "<table border=\"1\" class=\"dataframe\">\n",
       "  <thead>\n",
       "    <tr style=\"text-align: right;\">\n",
       "      <th></th>\n",
       "      <th>Date</th>\n",
       "      <th>VWAP</th>\n",
       "    </tr>\n",
       "  </thead>\n",
       "  <tbody>\n",
       "    <tr>\n",
       "      <th>0</th>\n",
       "      <td>2007-11-27</td>\n",
       "      <td>984.72</td>\n",
       "    </tr>\n",
       "    <tr>\n",
       "      <th>1</th>\n",
       "      <td>2007-11-28</td>\n",
       "      <td>941.38</td>\n",
       "    </tr>\n",
       "    <tr>\n",
       "      <th>2</th>\n",
       "      <td>2007-11-29</td>\n",
       "      <td>888.09</td>\n",
       "    </tr>\n",
       "    <tr>\n",
       "      <th>3</th>\n",
       "      <td>2007-11-30</td>\n",
       "      <td>929.17</td>\n",
       "    </tr>\n",
       "    <tr>\n",
       "      <th>4</th>\n",
       "      <td>2007-12-03</td>\n",
       "      <td>965.65</td>\n",
       "    </tr>\n",
       "  </tbody>\n",
       "</table>\n",
       "</div>"
      ],
      "text/plain": [
       "        Date    VWAP\n",
       "0 2007-11-27  984.72\n",
       "1 2007-11-28  941.38\n",
       "2 2007-11-29  888.09\n",
       "3 2007-11-30  929.17\n",
       "4 2007-12-03  965.65"
      ]
     },
     "execution_count": 12,
     "metadata": {},
     "output_type": "execute_result"
    }
   ],
   "source": [
    "#Feature Extraction-\n",
    "df_vwap = df[['Date','VWAP']]\n",
    "df_vwap['Date'] = df_vwap['Date'].apply(pd.to_datetime)\n",
    "df_vwap.head()"
   ]
  },
  {
   "cell_type": "code",
   "execution_count": 13,
   "id": "4edf04a9",
   "metadata": {},
   "outputs": [],
   "source": [
    "#extract the year, month, day, day of the week from the Date column.\n",
    "# 0 is the starting of the week, i.e., 0 is Monday and 6 is Sunday."
   ]
  },
  {
   "cell_type": "code",
   "execution_count": 14,
   "id": "d323c85c",
   "metadata": {},
   "outputs": [
    {
     "data": {
      "text/html": [
       "<div>\n",
       "<style scoped>\n",
       "    .dataframe tbody tr th:only-of-type {\n",
       "        vertical-align: middle;\n",
       "    }\n",
       "\n",
       "    .dataframe tbody tr th {\n",
       "        vertical-align: top;\n",
       "    }\n",
       "\n",
       "    .dataframe thead th {\n",
       "        text-align: right;\n",
       "    }\n",
       "</style>\n",
       "<table border=\"1\" class=\"dataframe\">\n",
       "  <thead>\n",
       "    <tr style=\"text-align: right;\">\n",
       "      <th></th>\n",
       "      <th>VWAP</th>\n",
       "      <th>year</th>\n",
       "      <th>month</th>\n",
       "      <th>day</th>\n",
       "      <th>day of week</th>\n",
       "    </tr>\n",
       "    <tr>\n",
       "      <th>Date</th>\n",
       "      <th></th>\n",
       "      <th></th>\n",
       "      <th></th>\n",
       "      <th></th>\n",
       "      <th></th>\n",
       "    </tr>\n",
       "  </thead>\n",
       "  <tbody>\n",
       "    <tr>\n",
       "      <th>2007-11-27</th>\n",
       "      <td>984.72</td>\n",
       "      <td>2007</td>\n",
       "      <td>11</td>\n",
       "      <td>27</td>\n",
       "      <td>1</td>\n",
       "    </tr>\n",
       "    <tr>\n",
       "      <th>2007-11-28</th>\n",
       "      <td>941.38</td>\n",
       "      <td>2007</td>\n",
       "      <td>11</td>\n",
       "      <td>28</td>\n",
       "      <td>2</td>\n",
       "    </tr>\n",
       "    <tr>\n",
       "      <th>2007-11-29</th>\n",
       "      <td>888.09</td>\n",
       "      <td>2007</td>\n",
       "      <td>11</td>\n",
       "      <td>29</td>\n",
       "      <td>3</td>\n",
       "    </tr>\n",
       "    <tr>\n",
       "      <th>2007-11-30</th>\n",
       "      <td>929.17</td>\n",
       "      <td>2007</td>\n",
       "      <td>11</td>\n",
       "      <td>30</td>\n",
       "      <td>4</td>\n",
       "    </tr>\n",
       "    <tr>\n",
       "      <th>2007-12-03</th>\n",
       "      <td>965.65</td>\n",
       "      <td>2007</td>\n",
       "      <td>12</td>\n",
       "      <td>3</td>\n",
       "      <td>0</td>\n",
       "    </tr>\n",
       "  </tbody>\n",
       "</table>\n",
       "</div>"
      ],
      "text/plain": [
       "              VWAP  year  month  day  day of week\n",
       "Date                                             \n",
       "2007-11-27  984.72  2007     11   27            1\n",
       "2007-11-28  941.38  2007     11   28            2\n",
       "2007-11-29  888.09  2007     11   29            3\n",
       "2007-11-30  929.17  2007     11   30            4\n",
       "2007-12-03  965.65  2007     12    3            0"
      ]
     },
     "execution_count": 14,
     "metadata": {},
     "output_type": "execute_result"
    }
   ],
   "source": [
    "df_vwap['year'] = df_vwap.Date.dt.year\n",
    "df_vwap['month'] = df_vwap.Date.dt.month\n",
    "df_vwap['day'] = df_vwap.Date.dt.day\n",
    "df_vwap['day of week'] = df_vwap.Date.dt.dayofweek\n",
    "\n",
    "#Set Date column as the index column.\n",
    "df_vwap.set_index('Date', inplace=True)\n",
    "df_vwap.head()"
   ]
  },
  {
   "cell_type": "code",
   "execution_count": 15,
   "id": "c5376aef",
   "metadata": {},
   "outputs": [
    {
     "data": {
      "text/plain": [
       "<matplotlib.legend.Legend at 0x216dfd761f0>"
      ]
     },
     "execution_count": 15,
     "metadata": {},
     "output_type": "execute_result"
    },
    {
     "data": {
      "image/png": "[encoded data removed]",
      "text/plain": [
       "<Figure size 1152x576 with 1 Axes>"
      ]
     },
     "metadata": {},
     "output_type": "display_data"
    }
   ],
   "source": [
    "# Visualising the VWAP \n",
    "\n",
    "plt.figure(figsize=(16,8)) \n",
    "plt.plot(df_vwap['VWAP'], label='VWAP') \n",
    "plt.title('Time Series') \n",
    "plt.xlabel(\"Time(year)\") \n",
    "plt.ylabel(\"Volume Weighted Average Price\") \n",
    "plt.legend(loc='best')"
   ]
  },
  {
   "cell_type": "code",
   "execution_count": 16,
   "id": "a58e3639",
   "metadata": {},
   "outputs": [
    {
     "data": {
      "text/plain": [
       "<AxesSubplot:xlabel='year'>"
      ]
     },
     "execution_count": 16,
     "metadata": {},
     "output_type": "execute_result"
    },
    {
     "data": {
      "image/png": "[encoded data removed]",
      "text/plain": [
       "<Figure size 432x288 with 1 Axes>"
      ]
     },
     "metadata": {},
     "output_type": "display_data"
    }
   ],
   "source": [
    "#Exploratory Data Analysis-\n",
    "# Yearly VWAP of Maruti Stocks\n",
    "\n",
    "df_vwap.groupby('year')['VWAP'].mean().plot.bar()"
   ]
  },
  {
   "cell_type": "code",
   "execution_count": 17,
   "id": "441ed419",
   "metadata": {},
   "outputs": [
    {
     "data": {
      "text/plain": [
       "<AxesSubplot:xlabel='month'>"
      ]
     },
     "execution_count": 17,
     "metadata": {},
     "output_type": "execute_result"
    },
    {
     "data": {
      "image/png": "[encoded data removed]",
      "text/plain": [
       "<Figure size 432x288 with 1 Axes>"
      ]
     },
     "metadata": {},
     "output_type": "display_data"
    }
   ],
   "source": [
    "# Monthly VWAP of Maruti Stocks\n",
    "\n",
    "df_vwap.groupby('month')['VWAP'].mean().plot.bar()"
   ]
  },
  {
   "cell_type": "code",
   "execution_count": 18,
   "id": "7ed065d5",
   "metadata": {},
   "outputs": [
    {
     "data": {
      "text/plain": [
       "<AxesSubplot:xlabel='day'>"
      ]
     },
     "execution_count": 18,
     "metadata": {},
     "output_type": "execute_result"
    },
    {
     "data": {
      "image/png": "[encoded data removed]",
      "text/plain": [
       "<Figure size 432x288 with 1 Axes>"
      ]
     },
     "metadata": {},
     "output_type": "display_data"
    }
   ],
   "source": [
    "# Daily VWAP of Maruti Stocks\n",
    "\n",
    "df_vwap.groupby('day')['VWAP'].mean().plot.bar()"
   ]
  },
  {
   "cell_type": "code",
   "execution_count": 19,
   "id": "3c32d496",
   "metadata": {},
   "outputs": [
    {
     "data": {
      "text/plain": [
       "<AxesSubplot:xlabel='day of week'>"
      ]
     },
     "execution_count": 19,
     "metadata": {},
     "output_type": "execute_result"
    },
    {
     "data": {
      "image/png": "[encoded data removed]",
      "text/plain": [
       "<Figure size 432x288 with 1 Axes>"
      ]
     },
     "metadata": {},
     "output_type": "display_data"
    }
   ],
   "source": [
    "# Analysing w.r.t day of the week\n",
    "\n",
    "df_vwap.groupby('day of week')['VWAP'].mean().plot.bar()"
   ]
  },
  {
   "cell_type": "code",
   "execution_count": 20,
   "id": "3f118971",
   "metadata": {},
   "outputs": [
    {
     "data": {
      "text/html": [
       "<div>\n",
       "<style scoped>\n",
       "    .dataframe tbody tr th:only-of-type {\n",
       "        vertical-align: middle;\n",
       "    }\n",
       "\n",
       "    .dataframe tbody tr th {\n",
       "        vertical-align: top;\n",
       "    }\n",
       "\n",
       "    .dataframe thead th {\n",
       "        text-align: right;\n",
       "    }\n",
       "</style>\n",
       "<table border=\"1\" class=\"dataframe\">\n",
       "  <thead>\n",
       "    <tr style=\"text-align: right;\">\n",
       "      <th></th>\n",
       "      <th>VWAP</th>\n",
       "      <th>year</th>\n",
       "      <th>month</th>\n",
       "      <th>day</th>\n",
       "      <th>day of week</th>\n",
       "    </tr>\n",
       "    <tr>\n",
       "      <th>Date</th>\n",
       "      <th></th>\n",
       "      <th></th>\n",
       "      <th></th>\n",
       "      <th></th>\n",
       "      <th></th>\n",
       "    </tr>\n",
       "  </thead>\n",
       "  <tbody>\n",
       "    <tr>\n",
       "      <th>2007-12-31</th>\n",
       "      <td>1078.949565</td>\n",
       "      <td>2007.0</td>\n",
       "      <td>11.826087</td>\n",
       "      <td>17.782609</td>\n",
       "      <td>1.956522</td>\n",
       "    </tr>\n",
       "    <tr>\n",
       "      <th>2008-12-31</th>\n",
       "      <td>595.471016</td>\n",
       "      <td>2008.0</td>\n",
       "      <td>6.443089</td>\n",
       "      <td>15.821138</td>\n",
       "      <td>1.955285</td>\n",
       "    </tr>\n",
       "    <tr>\n",
       "      <th>2009-12-31</th>\n",
       "      <td>490.940370</td>\n",
       "      <td>2009.0</td>\n",
       "      <td>6.580247</td>\n",
       "      <td>15.761317</td>\n",
       "      <td>2.041152</td>\n",
       "    </tr>\n",
       "    <tr>\n",
       "      <th>2010-12-31</th>\n",
       "      <td>560.167460</td>\n",
       "      <td>2010.0</td>\n",
       "      <td>6.599206</td>\n",
       "      <td>15.710317</td>\n",
       "      <td>1.992063</td>\n",
       "    </tr>\n",
       "    <tr>\n",
       "      <th>2011-12-31</th>\n",
       "      <td>144.778640</td>\n",
       "      <td>2011.0</td>\n",
       "      <td>6.516000</td>\n",
       "      <td>15.796000</td>\n",
       "      <td>1.992000</td>\n",
       "    </tr>\n",
       "  </tbody>\n",
       "</table>\n",
       "</div>"
      ],
      "text/plain": [
       "                   VWAP    year      month        day  day of week\n",
       "Date                                                              \n",
       "2007-12-31  1078.949565  2007.0  11.826087  17.782609     1.956522\n",
       "2008-12-31   595.471016  2008.0   6.443089  15.821138     1.955285\n",
       "2009-12-31   490.940370  2009.0   6.580247  15.761317     2.041152\n",
       "2010-12-31   560.167460  2010.0   6.599206  15.710317     1.992063\n",
       "2011-12-31   144.778640  2011.0   6.516000  15.796000     1.992000"
      ]
     },
     "execution_count": 20,
     "metadata": {},
     "output_type": "execute_result"
    }
   ],
   "source": [
    "#Time resampling-\n",
    "df_vwap.resample(rule = 'A').mean()[:5]"
   ]
  },
  {
   "cell_type": "code",
   "execution_count": 21,
   "id": "0b58d22e",
   "metadata": {},
   "outputs": [
    {
     "data": {
      "text/html": [
       "<div>\n",
       "<style scoped>\n",
       "    .dataframe tbody tr th:only-of-type {\n",
       "        vertical-align: middle;\n",
       "    }\n",
       "\n",
       "    .dataframe tbody tr th {\n",
       "        vertical-align: top;\n",
       "    }\n",
       "\n",
       "    .dataframe thead th {\n",
       "        text-align: right;\n",
       "    }\n",
       "</style>\n",
       "<table border=\"1\" class=\"dataframe\">\n",
       "  <thead>\n",
       "    <tr style=\"text-align: right;\">\n",
       "      <th></th>\n",
       "      <th>VWAP</th>\n",
       "      <th>year</th>\n",
       "      <th>month</th>\n",
       "      <th>day</th>\n",
       "      <th>day of week</th>\n",
       "    </tr>\n",
       "    <tr>\n",
       "      <th>Date</th>\n",
       "      <th></th>\n",
       "      <th></th>\n",
       "      <th></th>\n",
       "      <th></th>\n",
       "      <th></th>\n",
       "    </tr>\n",
       "  </thead>\n",
       "  <tbody>\n",
       "    <tr>\n",
       "      <th>2007-11-27</th>\n",
       "      <td>984.72</td>\n",
       "      <td>2007</td>\n",
       "      <td>11</td>\n",
       "      <td>27</td>\n",
       "      <td>1</td>\n",
       "    </tr>\n",
       "    <tr>\n",
       "      <th>2007-11-28</th>\n",
       "      <td>941.38</td>\n",
       "      <td>2007</td>\n",
       "      <td>11</td>\n",
       "      <td>28</td>\n",
       "      <td>2</td>\n",
       "    </tr>\n",
       "    <tr>\n",
       "      <th>2007-11-29</th>\n",
       "      <td>888.09</td>\n",
       "      <td>2007</td>\n",
       "      <td>11</td>\n",
       "      <td>29</td>\n",
       "      <td>3</td>\n",
       "    </tr>\n",
       "    <tr>\n",
       "      <th>2007-11-30</th>\n",
       "      <td>929.17</td>\n",
       "      <td>2007</td>\n",
       "      <td>11</td>\n",
       "      <td>30</td>\n",
       "      <td>4</td>\n",
       "    </tr>\n",
       "    <tr>\n",
       "      <th>2007-12-03</th>\n",
       "      <td>965.65</td>\n",
       "      <td>2007</td>\n",
       "      <td>12</td>\n",
       "      <td>3</td>\n",
       "      <td>0</td>\n",
       "    </tr>\n",
       "  </tbody>\n",
       "</table>\n",
       "</div>"
      ],
      "text/plain": [
       "              VWAP  year  month  day  day of week\n",
       "Date                                             \n",
       "2007-11-27  984.72  2007     11   27            1\n",
       "2007-11-28  941.38  2007     11   28            2\n",
       "2007-11-29  888.09  2007     11   29            3\n",
       "2007-11-30  929.17  2007     11   30            4\n",
       "2007-12-03  965.65  2007     12    3            0"
      ]
     },
     "execution_count": 21,
     "metadata": {},
     "output_type": "execute_result"
    }
   ],
   "source": [
    "df_vwap.head()"
   ]
  },
  {
   "cell_type": "code",
   "execution_count": 22,
   "id": "192956f0",
   "metadata": {},
   "outputs": [
    {
     "data": {
      "text/html": [
       "<div>\n",
       "<style scoped>\n",
       "    .dataframe tbody tr th:only-of-type {\n",
       "        vertical-align: middle;\n",
       "    }\n",
       "\n",
       "    .dataframe tbody tr th {\n",
       "        vertical-align: top;\n",
       "    }\n",
       "\n",
       "    .dataframe thead th {\n",
       "        text-align: right;\n",
       "    }\n",
       "</style>\n",
       "<table border=\"1\" class=\"dataframe\">\n",
       "  <thead>\n",
       "    <tr style=\"text-align: right;\">\n",
       "      <th></th>\n",
       "      <th>VWAP</th>\n",
       "      <th>year</th>\n",
       "      <th>month</th>\n",
       "      <th>day</th>\n",
       "      <th>day of week</th>\n",
       "    </tr>\n",
       "    <tr>\n",
       "      <th>Date</th>\n",
       "      <th></th>\n",
       "      <th></th>\n",
       "      <th></th>\n",
       "      <th></th>\n",
       "      <th></th>\n",
       "    </tr>\n",
       "  </thead>\n",
       "  <tbody>\n",
       "    <tr>\n",
       "      <th>2007-11-27</th>\n",
       "      <td>NaN</td>\n",
       "      <td>NaN</td>\n",
       "      <td>NaN</td>\n",
       "      <td>NaN</td>\n",
       "      <td>NaN</td>\n",
       "    </tr>\n",
       "    <tr>\n",
       "      <th>2007-11-28</th>\n",
       "      <td>984.72</td>\n",
       "      <td>2007.0</td>\n",
       "      <td>11.0</td>\n",
       "      <td>27.0</td>\n",
       "      <td>1.0</td>\n",
       "    </tr>\n",
       "    <tr>\n",
       "      <th>2007-11-29</th>\n",
       "      <td>941.38</td>\n",
       "      <td>2007.0</td>\n",
       "      <td>11.0</td>\n",
       "      <td>28.0</td>\n",
       "      <td>2.0</td>\n",
       "    </tr>\n",
       "    <tr>\n",
       "      <th>2007-11-30</th>\n",
       "      <td>888.09</td>\n",
       "      <td>2007.0</td>\n",
       "      <td>11.0</td>\n",
       "      <td>29.0</td>\n",
       "      <td>3.0</td>\n",
       "    </tr>\n",
       "    <tr>\n",
       "      <th>2007-12-03</th>\n",
       "      <td>929.17</td>\n",
       "      <td>2007.0</td>\n",
       "      <td>11.0</td>\n",
       "      <td>30.0</td>\n",
       "      <td>4.0</td>\n",
       "    </tr>\n",
       "  </tbody>\n",
       "</table>\n",
       "</div>"
      ],
      "text/plain": [
       "              VWAP    year  month   day  day of week\n",
       "Date                                                \n",
       "2007-11-27     NaN     NaN    NaN   NaN          NaN\n",
       "2007-11-28  984.72  2007.0   11.0  27.0          1.0\n",
       "2007-11-29  941.38  2007.0   11.0  28.0          2.0\n",
       "2007-11-30  888.09  2007.0   11.0  29.0          3.0\n",
       "2007-12-03  929.17  2007.0   11.0  30.0          4.0"
      ]
     },
     "execution_count": 22,
     "metadata": {},
     "output_type": "execute_result"
    }
   ],
   "source": [
    "df_vwap.shift(1).head()"
   ]
  },
  {
   "cell_type": "code",
   "execution_count": 23,
   "id": "35c04e81",
   "metadata": {},
   "outputs": [
    {
     "data": {
      "text/plain": [
       "<AxesSubplot:xlabel='Date'>"
      ]
     },
     "execution_count": 23,
     "metadata": {},
     "output_type": "execute_result"
    },
    {
     "data": {
      "image/png": "[encoded data removed]",
      "text/plain": [
       "<Figure size 720x432 with 1 Axes>"
      ]
     },
     "metadata": {},
     "output_type": "display_data"
    }
   ],
   "source": [
    "#Rolling windows-\n",
    "df_vwap['VWAP'].plot(figsize = (10,6))"
   ]
  },
  {
   "cell_type": "code",
   "execution_count": 25,
   "id": "e22a3c0c",
   "metadata": {},
   "outputs": [
    {
     "data": {
      "text/html": [
       "<div>\n",
       "<style scoped>\n",
       "    .dataframe tbody tr th:only-of-type {\n",
       "        vertical-align: middle;\n",
       "    }\n",
       "\n",
       "    .dataframe tbody tr th {\n",
       "        vertical-align: top;\n",
       "    }\n",
       "\n",
       "    .dataframe thead th {\n",
       "        text-align: right;\n",
       "    }\n",
       "</style>\n",
       "<table border=\"1\" class=\"dataframe\">\n",
       "  <thead>\n",
       "    <tr style=\"text-align: right;\">\n",
       "      <th></th>\n",
       "      <th>VWAP</th>\n",
       "      <th>year</th>\n",
       "      <th>month</th>\n",
       "      <th>day</th>\n",
       "      <th>day of week</th>\n",
       "    </tr>\n",
       "    <tr>\n",
       "      <th>Date</th>\n",
       "      <th></th>\n",
       "      <th></th>\n",
       "      <th></th>\n",
       "      <th></th>\n",
       "      <th></th>\n",
       "    </tr>\n",
       "  </thead>\n",
       "  <tbody>\n",
       "    <tr>\n",
       "      <th>2007-11-27</th>\n",
       "      <td>NaN</td>\n",
       "      <td>NaN</td>\n",
       "      <td>NaN</td>\n",
       "      <td>NaN</td>\n",
       "      <td>NaN</td>\n",
       "    </tr>\n",
       "    <tr>\n",
       "      <th>2007-11-28</th>\n",
       "      <td>NaN</td>\n",
       "      <td>NaN</td>\n",
       "      <td>NaN</td>\n",
       "      <td>NaN</td>\n",
       "      <td>NaN</td>\n",
       "    </tr>\n",
       "    <tr>\n",
       "      <th>2007-11-29</th>\n",
       "      <td>NaN</td>\n",
       "      <td>NaN</td>\n",
       "      <td>NaN</td>\n",
       "      <td>NaN</td>\n",
       "      <td>NaN</td>\n",
       "    </tr>\n",
       "    <tr>\n",
       "      <th>2007-11-30</th>\n",
       "      <td>NaN</td>\n",
       "      <td>NaN</td>\n",
       "      <td>NaN</td>\n",
       "      <td>NaN</td>\n",
       "      <td>NaN</td>\n",
       "    </tr>\n",
       "    <tr>\n",
       "      <th>2007-12-03</th>\n",
       "      <td>NaN</td>\n",
       "      <td>NaN</td>\n",
       "      <td>NaN</td>\n",
       "      <td>NaN</td>\n",
       "      <td>NaN</td>\n",
       "    </tr>\n",
       "    <tr>\n",
       "      <th>2007-12-04</th>\n",
       "      <td>NaN</td>\n",
       "      <td>NaN</td>\n",
       "      <td>NaN</td>\n",
       "      <td>NaN</td>\n",
       "      <td>NaN</td>\n",
       "    </tr>\n",
       "    <tr>\n",
       "      <th>2007-12-05</th>\n",
       "      <td>972.455714</td>\n",
       "      <td>2007.0</td>\n",
       "      <td>11.428571</td>\n",
       "      <td>18.000000</td>\n",
       "      <td>1.857143</td>\n",
       "    </tr>\n",
       "    <tr>\n",
       "      <th>2007-12-06</th>\n",
       "      <td>987.071429</td>\n",
       "      <td>2007.0</td>\n",
       "      <td>11.571429</td>\n",
       "      <td>15.000000</td>\n",
       "      <td>2.142857</td>\n",
       "    </tr>\n",
       "    <tr>\n",
       "      <th>2007-12-07</th>\n",
       "      <td>1010.670000</td>\n",
       "      <td>2007.0</td>\n",
       "      <td>11.714286</td>\n",
       "      <td>12.000000</td>\n",
       "      <td>2.428571</td>\n",
       "    </tr>\n",
       "    <tr>\n",
       "      <th>2007-12-10</th>\n",
       "      <td>1038.140000</td>\n",
       "      <td>2007.0</td>\n",
       "      <td>11.857143</td>\n",
       "      <td>9.285714</td>\n",
       "      <td>2.000000</td>\n",
       "    </tr>\n",
       "  </tbody>\n",
       "</table>\n",
       "</div>"
      ],
      "text/plain": [
       "                   VWAP    year      month        day  day of week\n",
       "Date                                                              \n",
       "2007-11-27          NaN     NaN        NaN        NaN          NaN\n",
       "2007-11-28          NaN     NaN        NaN        NaN          NaN\n",
       "2007-11-29          NaN     NaN        NaN        NaN          NaN\n",
       "2007-11-30          NaN     NaN        NaN        NaN          NaN\n",
       "2007-12-03          NaN     NaN        NaN        NaN          NaN\n",
       "2007-12-04          NaN     NaN        NaN        NaN          NaN\n",
       "2007-12-05   972.455714  2007.0  11.428571  18.000000     1.857143\n",
       "2007-12-06   987.071429  2007.0  11.571429  15.000000     2.142857\n",
       "2007-12-07  1010.670000  2007.0  11.714286  12.000000     2.428571\n",
       "2007-12-10  1038.140000  2007.0  11.857143   9.285714     2.000000"
      ]
     },
     "execution_count": 25,
     "metadata": {},
     "output_type": "execute_result"
    }
   ],
   "source": [
    "df_vwap.rolling(7).mean().head(10)"
   ]
  },
  {
   "cell_type": "code",
   "execution_count": 26,
   "id": "9267df23",
   "metadata": {},
   "outputs": [
    {
     "data": {
      "text/plain": [
       "<AxesSubplot:xlabel='Date'>"
      ]
     },
     "execution_count": 26,
     "metadata": {},
     "output_type": "execute_result"
    },
    {
     "data": {
      "image/png": "[encoded data removed]",
      "text/plain": [
       "<Figure size 1152x432 with 1 Axes>"
      ]
     },
     "metadata": {},
     "output_type": "display_data"
    }
   ],
   "source": [
    "df_vwap['VWAP'].plot()\n",
    "df_vwap.rolling(window=30).mean()['VWAP'].plot(figsize=(16, 6))"
   ]
  },
  {
   "cell_type": "code",
   "execution_count": null,
   "id": "171b9c52",
   "metadata": {},
   "outputs": [],
   "source": []
  }
 ],
 "metadata": {
  "kernelspec": {
   "display_name": "Python 3 (ipykernel)",
   "language": "python",
   "name": "python3"
  },
  "language_info": {
   "codemirror_mode": {
    "name": "ipython",
    "version": 3
   },
   "file_extension": ".py",
   "mimetype": "text/x-python",
   "name": "python",
   "nbconvert_exporter": "python",
   "pygments_lexer": "ipython3",
   "version": "3.9.12"
  }
 },
 "nbformat": 4,
 "nbformat_minor": 5
}
